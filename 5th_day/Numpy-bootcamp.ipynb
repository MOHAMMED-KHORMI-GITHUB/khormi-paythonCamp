{
 "cells": [
  {
   "cell_type": "code",
   "execution_count": 1,
   "metadata": {},
   "outputs": [],
   "source": [
    "## Why Numpy \n",
    "# Size\n",
    "# Simple API\n",
    "# homogeneous n-dimensional arrays\n",
    "# Faster computation than lists\n",
    "# size in memory "
   ]
  },
  {
   "cell_type": "code",
   "execution_count": 47,
   "metadata": {},
   "outputs": [],
   "source": [
    "# Numerical Python ... NumPy\n",
    "# Matrix \n",
    "\n",
    "x = [2, 4, '5'] "
   ]
  },
  {
   "cell_type": "code",
   "execution_count": 40,
   "metadata": {},
   "outputs": [
    {
     "data": {
      "text/plain": [
       "str"
      ]
     },
     "execution_count": 40,
     "metadata": {},
     "output_type": "execute_result"
    }
   ],
   "source": [
    "type(x[1])"
   ]
  },
  {
   "cell_type": "code",
   "execution_count": null,
   "metadata": {},
   "outputs": [],
   "source": []
  },
  {
   "cell_type": "code",
   "execution_count": 50,
   "metadata": {},
   "outputs": [
    {
     "name": "stdout",
     "output_type": "stream",
     "text": [
      "<class 'list'>\n",
      "<class 'int'>\n",
      "<class 'float'>\n",
      "<class 'str'>\n"
     ]
    }
   ],
   "source": [
    "# homogeneous vs heteroeneous n-dimensional arrays\n",
    "s = [3 ,5.0 , 'df'] \n",
    "print(type(s))\n",
    "print(type(s[0]))\n",
    "print(type(s[1]))\n",
    "print(type(s[2]))"
   ]
  },
  {
   "cell_type": "code",
   "execution_count": 52,
   "metadata": {},
   "outputs": [],
   "source": [
    "import numpy\n",
    "import sys"
   ]
  },
  {
   "cell_type": "code",
   "execution_count": 53,
   "metadata": {},
   "outputs": [
    {
     "name": "stdout",
     "output_type": "stream",
     "text": [
      "<class 'numpy.ndarray'>\n"
     ]
    }
   ],
   "source": [
    "s_numpy = numpy.array([1,2,3])\n",
    "print(type(s_numpy))"
   ]
  },
  {
   "cell_type": "code",
   "execution_count": 54,
   "metadata": {},
   "outputs": [
    {
     "name": "stdout",
     "output_type": "stream",
     "text": [
      "<class 'list'>\n",
      "<class 'numpy.ndarray'>\n"
     ]
    }
   ],
   "source": [
    "numpy_arr = numpy.array([1,2,3])\n",
    "py_arr = [1,2,3]\n",
    "print(type(py_arr))\n",
    "print(type(numpy_arr))\n"
   ]
  },
  {
   "cell_type": "code",
   "execution_count": 67,
   "metadata": {},
   "outputs": [
    {
     "name": "stdout",
     "output_type": "stream",
     "text": [
      "Downloaded the tutorial in 0.0557 seconds\n"
     ]
    }
   ],
   "source": [
    "import time \n",
    "import numpy as np\n",
    "\n",
    "\n",
    "numpy_arr = numpy.array(range(10000000))\n",
    "py_arr = range(1000)\n",
    "\n",
    "tic = time.perf_counter()\n",
    "numpy_arr = numpy_arr + numpy_arr\n",
    "toc = time.perf_counter()\n",
    "print(f\"Downloaded the tutorial in {toc - tic:0.4f} seconds\")\n",
    "\n"
   ]
  },
  {
   "cell_type": "code",
   "execution_count": 63,
   "metadata": {},
   "outputs": [
    {
     "data": {
      "text/plain": [
       "1138.800717836"
      ]
     },
     "execution_count": 63,
     "metadata": {},
     "output_type": "execute_result"
    }
   ],
   "source": [
    "time.perf_counter()"
   ]
  },
  {
   "cell_type": "code",
   "execution_count": 72,
   "metadata": {},
   "outputs": [
    {
     "name": "stdout",
     "output_type": "stream",
     "text": [
      "[4, 6, 8]\n",
      "<class 'list'>\n",
      "[4 6 8]\n",
      "<class 'numpy.ndarray'>\n"
     ]
    }
   ],
   "source": [
    "x = [1, 2 , 3]\n",
    "y = [3, 4, 5]\n",
    "#Z = [x[i] + y[i] for i in range(len(x))]\n",
    "Z = [x[0] + y[0] , x[1] + y[1], x[2] + y[2]]\n",
    "print(Z)\n",
    "print(type(Z))\n",
    "# numpy\n",
    "x = numpy.array([1,2,3])\n",
    "y = numpy.array([3, 4, 5])\n",
    "Z = x + y\n",
    "print(Z)\n",
    "print(type(Z))"
   ]
  },
  {
   "cell_type": "code",
   "execution_count": null,
   "metadata": {},
   "outputs": [],
   "source": [
    "!vim test.py \n",
    "python test.py"
   ]
  },
  {
   "cell_type": "code",
   "execution_count": null,
   "metadata": {},
   "outputs": [],
   "source": [
    "# 8 bits = 255 \n",
    "# 16 bit = 65000\n",
    "# 32 bit = 4294967296"
   ]
  },
  {
   "cell_type": "code",
   "execution_count": 89,
   "metadata": {},
   "outputs": [
    {
     "name": "stdout",
     "output_type": "stream",
     "text": [
      "List: Downloaded the tutorial in 7.2950 seconds\n",
      "49999999.5\n",
      "NumPy: Downloaded the tutorial in 0.9895 seconds\n",
      "49999999.5\n"
     ]
    }
   ],
   "source": [
    "import time as t\n",
    "import numpy as np\n",
    "\n",
    "def pure_python_sum(num):\n",
    "    tic = t.perf_counter()\n",
    "    X = range(num)\n",
    "    #Y = range(num)\n",
    "    Z = sum(X)/len(X) #[X[i] + Y[i] for i in range(len(X)) ]\n",
    "    toc = t.perf_counter()\n",
    "    print(f\"List: Downloaded the tutorial in {toc - tic:0.4f} seconds\")\n",
    "    print(Z)\n",
    "\n",
    "def numpy_sum(num):\n",
    "    tic = t.perf_counter()\n",
    "    X = np.arange(num,dtype=np.int32)\n",
    "    #Y = np.arange(num,dtype=np.int32)\n",
    "    Z = np.mean(X)#X + Y\n",
    "    toc = t.perf_counter()\n",
    "    print(f\"NumPy: Downloaded the tutorial in {toc - tic:0.4f} seconds\")\n",
    "    print(Z)\n",
    "\n",
    "n = 100000000\n",
    "pure_python_sum(n)\n",
    "numpy_sum(n)"
   ]
  },
  {
   "cell_type": "code",
   "execution_count": 106,
   "metadata": {},
   "outputs": [],
   "source": [
    "numpy_arr = numpy.array([1,2,700000],dtype=np.int8)\n",
    "py_arr = [1,2,3]\n"
   ]
  },
  {
   "cell_type": "code",
   "execution_count": 107,
   "metadata": {},
   "outputs": [
    {
     "name": "stdout",
     "output_type": "stream",
     "text": [
      "[     1      2 -20896]\n"
     ]
    }
   ],
   "source": [
    "print(numpy_arr)"
   ]
  },
  {
   "cell_type": "code",
   "execution_count": 96,
   "metadata": {},
   "outputs": [],
   "source": [
    "sizeof_numpy_arr = numpy_arr.itemsize * numpy_arr.size\n",
    "sizeof_py_arr = sys.getsizeof(py_arr[0]) * len(py_arr)"
   ]
  },
  {
   "cell_type": "code",
   "execution_count": 97,
   "metadata": {},
   "outputs": [
    {
     "name": "stdout",
     "output_type": "stream",
     "text": [
      "3\n",
      "84\n"
     ]
    }
   ],
   "source": [
    "print(sizeof_numpy_arr) ### size in bytes ####  \n",
    "print(sizeof_py_arr)"
   ]
  },
  {
   "cell_type": "code",
   "execution_count": 16,
   "metadata": {},
   "outputs": [
    {
     "name": "stdout",
     "output_type": "stream",
     "text": [
      "<class 'list'>\n",
      "<class 'numpy.ndarray'>\n"
     ]
    }
   ],
   "source": [
    "print(type(py_arr))\n",
    "print(type(numpy_arr))"
   ]
  },
  {
   "cell_type": "code",
   "execution_count": null,
   "metadata": {},
   "outputs": [],
   "source": []
  },
  {
   "cell_type": "code",
   "execution_count": null,
   "metadata": {},
   "outputs": [],
   "source": []
  },
  {
   "cell_type": "code",
   "execution_count": null,
   "metadata": {},
   "outputs": [],
   "source": []
  },
  {
   "cell_type": "code",
   "execution_count": null,
   "metadata": {},
   "outputs": [],
   "source": []
  },
  {
   "cell_type": "code",
   "execution_count": 110,
   "metadata": {},
   "outputs": [],
   "source": [
    "## Size example \n",
    "import numpy as np\n",
    "import sys\n",
    "## 8 bits = 1 byte \n",
    "## x = 1 8 bit ===== 00000001\n",
    "## x = 1 32 bits ===== 000000000000000000000000001\n",
    "py_arr = [1,2,3,4,5,6]\n",
    "numpy_arr8 = np.array([1,2,3,4,5,6]) # 255\n",
    "numpy_arr16 = np.array([1,2,3,4,5,6], dtype=np.int16) # 65000\n",
    "numpy_arr32 = np.array([1,2,3,4,5,6], dtype=np.int32) # \n",
    "numpy_arr64 = np.array([1,2,3,4,5,6], dtype=np.int64)\n",
    "\n",
    "sizeof_py_arr = sys.getsizeof(py_arr[0]) * len(py_arr)   # Size = 168\n",
    "sizeof_numpy_arr8 = numpy_arr8.itemsize * numpy_arr8.size   # Size = 6\n",
    "sizeof_numpy_arr16 = numpy_arr16.itemsize * numpy_arr16.size   # Size = 12\n",
    "sizeof_numpy_arr32 = numpy_arr32.itemsize * numpy_arr32.size   # Size = 24\n",
    "sizeof_numpy_arr64 = numpy_arr64.itemsize * numpy_arr64.size   # Size = 48"
   ]
  },
  {
   "cell_type": "code",
   "execution_count": 112,
   "metadata": {},
   "outputs": [
    {
     "ename": "SyntaxError",
     "evalue": "Missing parentheses in call to 'print'. Did you mean print(sizeof_py_arr # Size = 144)? (<ipython-input-112-ca4d4fc86dc2>, line 1)",
     "output_type": "error",
     "traceback": [
      "\u001b[0;36m  File \u001b[0;32m\"<ipython-input-112-ca4d4fc86dc2>\"\u001b[0;36m, line \u001b[0;32m1\u001b[0m\n\u001b[0;31m    print sizeof_py_arr # Size = 144\u001b[0m\n\u001b[0m          ^\u001b[0m\n\u001b[0;31mSyntaxError\u001b[0m\u001b[0;31m:\u001b[0m Missing parentheses in call to 'print'. Did you mean print(sizeof_py_arr # Size = 144)?\n"
     ]
    }
   ],
   "source": [
    "print(sizeof_py_arr)  # Size = 144\n",
    "print(sizeof_numpy_arr8)   # Size = 6\n",
    "print(sizeof_numpy_arr16)   # Size = 12\n",
    "print(sizeof_numpy_arr32)   # Size = 24\n",
    "print(sizeof_numpy_arr64)"
   ]
  },
  {
   "cell_type": "code",
   "execution_count": 127,
   "metadata": {},
   "outputs": [],
   "source": [
    "py_arr = [1,2,3,4,5,6]\n",
    "numpy_arr = np.array([1,5, 4,3], dtype=np.int8)\n",
    "#[1, 3 ,4 ,5]"
   ]
  },
  {
   "cell_type": "code",
   "execution_count": 128,
   "metadata": {},
   "outputs": [
    {
     "name": "stdout",
     "output_type": "stream",
     "text": [
      "3.25\n",
      "3.5\n"
     ]
    }
   ],
   "source": [
    "print(np.mean(numpy_arr)) ## 1 + 2 + 3 + 4 + 5 +6 / 6 average \n",
    "print(np.median(numpy_arr)) ##  3 + 4 / 2 ... "
   ]
  },
  {
   "cell_type": "code",
   "execution_count": 126,
   "metadata": {},
   "outputs": [
    {
     "data": {
      "text/plain": [
       "30"
      ]
     },
     "execution_count": 126,
     "metadata": {},
     "output_type": "execute_result"
    }
   ],
   "source": [
    "np.max(numpy_arr)"
   ]
  },
  {
   "cell_type": "code",
   "execution_count": 169,
   "metadata": {},
   "outputs": [
    {
     "data": {
      "text/plain": [
       "16"
      ]
     },
     "execution_count": 169,
     "metadata": {},
     "output_type": "execute_result"
    }
   ],
   "source": [
    "np.random.randint(10,20)"
   ]
  },
  {
   "cell_type": "code",
   "execution_count": null,
   "metadata": {},
   "outputs": [],
   "source": [
    "### random  === 0 ___ 1  ,,,, 0.5 *  500 = 250 "
   ]
  },
  {
   "cell_type": "code",
   "execution_count": 223,
   "metadata": {},
   "outputs": [
    {
     "data": {
      "text/plain": [
       "array([224.19219226, 252.83794424])"
      ]
     },
     "execution_count": 223,
     "metadata": {},
     "output_type": "execute_result"
    }
   ],
   "source": [
    "X = np.random.random_sample(2) * 500 \n",
    "X"
   ]
  },
  {
   "cell_type": "code",
   "execution_count": 221,
   "metadata": {},
   "outputs": [
    {
     "data": {
      "text/plain": [
       "249.41554838145075"
      ]
     },
     "execution_count": 221,
     "metadata": {},
     "output_type": "execute_result"
    }
   ],
   "source": [
    "np.mean(X)"
   ]
  },
  {
   "cell_type": "code",
   "execution_count": 112,
   "metadata": {},
   "outputs": [
    {
     "data": {
      "text/plain": [
       "array([[5.54912015, 4.34697779],\n",
       "       [7.45014642, 5.11993859],\n",
       "       [0.17286041, 0.38599458],\n",
       "       [0.49992011, 4.72657735],\n",
       "       [7.68493213, 6.78701189],\n",
       "       [8.64081273, 4.0601094 ]])"
      ]
     },
     "execution_count": 112,
     "metadata": {},
     "output_type": "execute_result"
    }
   ],
   "source": [
    "np.random.rand(6,2) * 10"
   ]
  },
  {
   "cell_type": "code",
   "execution_count": 227,
   "metadata": {},
   "outputs": [
    {
     "name": "stdout",
     "output_type": "stream",
     "text": [
      "66.9\n",
      "5.0\n",
      "146.84852740153713\n",
      "21564.49\n",
      "51.0\n"
     ]
    }
   ],
   "source": [
    "# Simple API\n",
    "numpy_arr32 = np.array([1,2,3,5,6,4,5,66,77,500])\n",
    "print(np.mean(numpy_arr32))\n",
    "print(np.median(numpy_arr32))\n",
    "print(np.std(numpy_arr32))\n",
    "print(np.var(numpy_arr32))\n",
    "print(np.percentile(numpy_arr32,75))"
   ]
  },
  {
   "cell_type": "code",
   "execution_count": 228,
   "metadata": {},
   "outputs": [],
   "source": [
    "x = numpy_arr32"
   ]
  },
  {
   "cell_type": "code",
   "execution_count": 229,
   "metadata": {},
   "outputs": [
    {
     "name": "stdout",
     "output_type": "stream",
     "text": [
      "66.9\n",
      "5.0\n",
      "146.84852740153713\n",
      "21564.49\n",
      "3.25\n"
     ]
    }
   ],
   "source": [
    "print(np.mean(x))\n",
    "print(np.median(x))\n",
    "print(np.std(x))\n",
    "print(np.var(x))\n",
    "print(np.percentile(x,25)) # what is the value that 25% of data are below."
   ]
  },
  {
   "cell_type": "code",
   "execution_count": 230,
   "metadata": {},
   "outputs": [
    {
     "name": "stdout",
     "output_type": "stream",
     "text": [
      "669\n",
      "1\n",
      "500\n"
     ]
    }
   ],
   "source": [
    "print(np.sum(numpy_arr32))\n",
    "print(np.min(numpy_arr32))\n",
    "print(np.max(numpy_arr32))"
   ]
  },
  {
   "cell_type": "code",
   "execution_count": 231,
   "metadata": {},
   "outputs": [
    {
     "name": "stdout",
     "output_type": "stream",
     "text": [
      "[  1   2   3   5   6   4   5  66  77 500]\n",
      "[ 1.          1.41421356  1.73205081  2.23606798  2.44948974  2.\n",
      "  2.23606798  8.1240384   8.77496439 22.36067977]\n"
     ]
    }
   ],
   "source": [
    "print(numpy_arr32)\n",
    "print(np.sqrt(numpy_arr32))"
   ]
  },
  {
   "cell_type": "code",
   "execution_count": null,
   "metadata": {
    "collapsed": true
   },
   "outputs": [],
   "source": []
  },
  {
   "cell_type": "code",
   "execution_count": 244,
   "metadata": {},
   "outputs": [],
   "source": [
    "np_arr = np.array ( [ [1, 2, 3, 4, 5],\n",
    "                         [6, 7, 8, 9, 10], [2,3,4,5,6]] )"
   ]
  },
  {
   "cell_type": "code",
   "execution_count": null,
   "metadata": {},
   "outputs": [],
   "source": [
    "# age , weight , height \n",
    "# [20, 50, 150]\n",
    "# [15, 60, 170]\n",
    "# [30, 90, 180]\n",
    "# grades \n",
    "# [70, 75, 60]\n",
    "# [40, 60, 70]\n",
    "# [33, 55, 90]"
   ]
  },
  {
   "cell_type": "code",
   "execution_count": 263,
   "metadata": {},
   "outputs": [],
   "source": [
    "students = np.array( [[70, 75, 60, 80], [40, 60, 70, 90], [33, 90, 55, 90]])"
   ]
  },
  {
   "cell_type": "code",
   "execution_count": 266,
   "metadata": {},
   "outputs": [
    {
     "data": {
      "text/plain": [
       "(3, 4)"
      ]
     },
     "execution_count": 266,
     "metadata": {},
     "output_type": "execute_result"
    }
   ],
   "source": [
    "students.shape"
   ]
  },
  {
   "cell_type": "code",
   "execution_count": 272,
   "metadata": {},
   "outputs": [
    {
     "ename": "ValueError",
     "evalue": "cannot reshape array of size 12 into shape (4,5)",
     "output_type": "error",
     "traceback": [
      "\u001b[0;31m---------------------------------------------------------------------------\u001b[0m",
      "\u001b[0;31mValueError\u001b[0m                                Traceback (most recent call last)",
      "\u001b[0;32m<ipython-input-272-748943de9659>\u001b[0m in \u001b[0;36m<module>\u001b[0;34m\u001b[0m\n\u001b[0;32m----> 1\u001b[0;31m \u001b[0mstudents\u001b[0m\u001b[0;34m.\u001b[0m\u001b[0mreshape\u001b[0m\u001b[0;34m(\u001b[0m\u001b[0;36m4\u001b[0m\u001b[0;34m,\u001b[0m\u001b[0;36m5\u001b[0m\u001b[0;34m)\u001b[0m\u001b[0;34m\u001b[0m\u001b[0;34m\u001b[0m\u001b[0m\n\u001b[0m",
      "\u001b[0;31mValueError\u001b[0m: cannot reshape array of size 12 into shape (4,5)"
     ]
    }
   ],
   "source": [
    "students.reshape(4,5)"
   ]
  },
  {
   "cell_type": "code",
   "execution_count": null,
   "metadata": {},
   "outputs": [],
   "source": []
  },
  {
   "cell_type": "code",
   "execution_count": 264,
   "metadata": {},
   "outputs": [
    {
     "data": {
      "text/plain": [
       "array([40., 75., 60., 90.])"
      ]
     },
     "execution_count": 264,
     "metadata": {},
     "output_type": "execute_result"
    }
   ],
   "source": [
    "np.median(students,0)"
   ]
  },
  {
   "cell_type": "code",
   "execution_count": 265,
   "metadata": {},
   "outputs": [
    {
     "data": {
      "text/plain": [
       "array([[70, 75, 60, 80],\n",
       "       [40, 60, 70, 90],\n",
       "       [33, 90, 55, 90]])"
      ]
     },
     "execution_count": 265,
     "metadata": {},
     "output_type": "execute_result"
    }
   ],
   "source": [
    "students"
   ]
  },
  {
   "cell_type": "code",
   "execution_count": 258,
   "metadata": {},
   "outputs": [
    {
     "data": {
      "text/plain": [
       "array([[70, 40, 33],\n",
       "       [75, 60, 55],\n",
       "       [60, 70, 90]])"
      ]
     },
     "execution_count": 258,
     "metadata": {},
     "output_type": "execute_result"
    }
   ],
   "source": [
    "np.transpose(students)"
   ]
  },
  {
   "cell_type": "code",
   "execution_count": null,
   "metadata": {},
   "outputs": [],
   "source": []
  },
  {
   "cell_type": "code",
   "execution_count": null,
   "metadata": {},
   "outputs": [],
   "source": []
  },
  {
   "cell_type": "code",
   "execution_count": null,
   "metadata": {},
   "outputs": [],
   "source": []
  },
  {
   "cell_type": "code",
   "execution_count": null,
   "metadata": {},
   "outputs": [],
   "source": []
  },
  {
   "cell_type": "code",
   "execution_count": null,
   "metadata": {},
   "outputs": [],
   "source": []
  },
  {
   "cell_type": "code",
   "execution_count": 249,
   "metadata": {},
   "outputs": [
    {
     "data": {
      "text/plain": [
       "array([3., 4., 5., 6., 7.])"
      ]
     },
     "execution_count": 249,
     "metadata": {},
     "output_type": "execute_result"
    }
   ],
   "source": [
    "np.mean(np_arr,0)"
   ]
  },
  {
   "cell_type": "code",
   "execution_count": null,
   "metadata": {},
   "outputs": [],
   "source": []
  },
  {
   "cell_type": "code",
   "execution_count": 273,
   "metadata": {},
   "outputs": [],
   "source": [
    "# matrix manupulation \n",
    "# A 2 * 5 matrix\n",
    "np_md_arr = np.array ( [ [1, 2, 3, 4, 5],\n",
    "                         [6, 7, 8, 9, 10]] )\n",
    "\n",
    "# Creates a 5 * 2 Matrix\n",
    "# [ [1,2], [3,4], [5,6], [7,8], [9,10]]\n",
    "np_modmd_arr = np_md_arr.reshape(1,2)"
   ]
  },
  {
   "cell_type": "code",
   "execution_count": 274,
   "metadata": {},
   "outputs": [
    {
     "name": "stdout",
     "output_type": "stream",
     "text": [
      "[[ 1  2  3  4  5]\n",
      " [ 6  7  8  9 10]]\n",
      "[[ 1  2]\n",
      " [ 3  4]\n",
      " [ 5  6]\n",
      " [ 7  8]\n",
      " [ 9 10]]\n"
     ]
    }
   ],
   "source": [
    "print(np_md_arr)\n",
    "print(np_modmd_arr)\n"
   ]
  },
  {
   "cell_type": "code",
   "execution_count": 82,
   "metadata": {},
   "outputs": [
    {
     "name": "stdout",
     "output_type": "stream",
     "text": [
      "[1 2 3 4]\n",
      "[[1 2]\n",
      " [3 4]]\n"
     ]
    }
   ],
   "source": [
    " \n",
    "\n",
    "# A 1 * 4 Matrix\n",
    "np_md_arr2 = np.array ( [1, 2, 3, 4] )\n",
    "\n",
    "# Creates a 2 * 2 Matrix\n",
    "#[ [1,2], [3,4] ]\n",
    "np_modmd_arr2 = np_md_arr2.reshape(2,2) \n",
    "# n_arr.shape for finding the shape of an array\n",
    "print(np_md_arr2)\n",
    "print(np_modmd_arr2)"
   ]
  },
  {
   "cell_type": "code",
   "execution_count": 83,
   "metadata": {},
   "outputs": [
    {
     "name": "stdout",
     "output_type": "stream",
     "text": [
      "(2, 2)\n"
     ]
    }
   ],
   "source": [
    "n_arr = np.array([[1,2],[3,0]])\n",
    "print(n_arr.shape)"
   ]
  },
  {
   "cell_type": "code",
   "execution_count": 84,
   "metadata": {},
   "outputs": [
    {
     "name": "stdout",
     "output_type": "stream",
     "text": [
      "[1.  1.5 2.  2.5 3.  3.5 4.  4.5]\n",
      "[[1.  1.5 2.  2.5]\n",
      " [3.  3.5 4.  4.5]]\n"
     ]
    }
   ],
   "source": [
    " \n",
    "np_nd_arr = np.arange(1,5,0.5)\n",
    "print(np_nd_arr)\n",
    "print(np_nd_arr.reshape(2,4))\n",
    "# Generates => [0 1 2 3 4 5 6 7 8 9]\n",
    "# np_nd_arr = np.arange(0,10,2) ...  or float instead \n",
    "# np_nd_arr = np.arange(0,10).reshape(5,2)\n",
    "# reshape back to vector or array \n",
    "# np_arr.ravel() "
   ]
  },
  {
   "cell_type": "code",
   "execution_count": 85,
   "metadata": {},
   "outputs": [
    {
     "data": {
      "text/plain": [
       "array([1. , 1.5, 2. , 2.5, 3. , 3.5, 4. , 4.5])"
      ]
     },
     "execution_count": 85,
     "metadata": {},
     "output_type": "execute_result"
    }
   ],
   "source": [
    "np_nd_arr"
   ]
  },
  {
   "cell_type": "code",
   "execution_count": null,
   "metadata": {},
   "outputs": [],
   "source": [
    "##### slicing and indexing "
   ]
  },
  {
   "cell_type": "code",
   "execution_count": 276,
   "metadata": {},
   "outputs": [],
   "source": [
    "s = np.array ( [ [1, 2, 3, 4, 5],\n",
    "                         [6, 7, 8, 9, 10]] )"
   ]
  },
  {
   "cell_type": "code",
   "execution_count": 279,
   "metadata": {},
   "outputs": [
    {
     "data": {
      "text/plain": [
       "array([[ 1,  2,  3,  4,  5],\n",
       "       [ 6,  7,  8,  9, 10]])"
      ]
     },
     "execution_count": 279,
     "metadata": {},
     "output_type": "execute_result"
    }
   ],
   "source": [
    "s"
   ]
  },
  {
   "cell_type": "code",
   "execution_count": 293,
   "metadata": {},
   "outputs": [
    {
     "name": "stdout",
     "output_type": "stream",
     "text": [
      "[[ 3  4  5]\n",
      " [ 8  9 10]]\n"
     ]
    }
   ],
   "source": [
    "s_row1 = s[:,2:5]\n",
    "print(s_row1)"
   ]
  },
  {
   "cell_type": "code",
   "execution_count": 295,
   "metadata": {},
   "outputs": [
    {
     "data": {
      "text/plain": [
       "array([1., 1., 1., 1., 1., 1., 1., 1., 1., 1.])"
      ]
     },
     "execution_count": 295,
     "metadata": {},
     "output_type": "execute_result"
    }
   ],
   "source": [
    "np.ones(10)"
   ]
  },
  {
   "cell_type": "code",
   "execution_count": 86,
   "metadata": {},
   "outputs": [],
   "source": [
    "# more in generating data \n",
    "# all zeros or ones \n",
    "np_array_zeros = np.zeros(10)\n",
    "np_array_ones = np.ones(10)"
   ]
  },
  {
   "cell_type": "code",
   "execution_count": 87,
   "metadata": {},
   "outputs": [
    {
     "name": "stdout",
     "output_type": "stream",
     "text": [
      "[1. 1. 1. 1. 1. 1. 1. 1. 1. 1.]\n"
     ]
    }
   ],
   "source": [
    "np_array_zeros = np.ones(10)\n",
    "print(np_array_zeros)"
   ]
  },
  {
   "cell_type": "code",
   "execution_count": 88,
   "metadata": {},
   "outputs": [
    {
     "name": "stdout",
     "output_type": "stream",
     "text": [
      "[1, 2, 3, 1, 2, 3]\n",
      "[3 4 5]\n"
     ]
    }
   ],
   "source": [
    "# multi-dimensision math\n",
    "# for example in python Lists\n",
    "py_arr = [1,2,3] * 2 #### pure python list \n",
    "print(py_arr)\n",
    "# numpy array \n",
    "numpy_arr = np.array([1,2,3], dtype=np.int32) + 2\n",
    "print(numpy_arr)\n",
    "## also for more dimensions can be used "
   ]
  },
  {
   "cell_type": "code",
   "execution_count": 314,
   "metadata": {},
   "outputs": [
    {
     "data": {
      "text/plain": [
       "list"
      ]
     },
     "execution_count": 314,
     "metadata": {},
     "output_type": "execute_result"
    }
   ],
   "source": [
    "type([1,2,3])"
   ]
  },
  {
   "cell_type": "code",
   "execution_count": 318,
   "metadata": {},
   "outputs": [
    {
     "name": "stdout",
     "output_type": "stream",
     "text": [
      "[1, 2, 3, 1, 2, 3]\n"
     ]
    }
   ],
   "source": [
    "py_arr = [1,2,3] + [1,2,3] #### pure python list \n",
    "print(py_arr)"
   ]
  },
  {
   "cell_type": "code",
   "execution_count": 323,
   "metadata": {},
   "outputs": [],
   "source": [
    "numpy_arr = np.array([1,2,3]) / np.array([1,2,3])"
   ]
  },
  {
   "cell_type": "code",
   "execution_count": 324,
   "metadata": {},
   "outputs": [
    {
     "data": {
      "text/plain": [
       "array([1., 1., 1.])"
      ]
     },
     "execution_count": 324,
     "metadata": {},
     "output_type": "execute_result"
    }
   ],
   "source": [
    "numpy_arr"
   ]
  },
  {
   "cell_type": "code",
   "execution_count": null,
   "metadata": {},
   "outputs": [],
   "source": []
  },
  {
   "cell_type": "code",
   "execution_count": null,
   "metadata": {},
   "outputs": [],
   "source": []
  },
  {
   "cell_type": "code",
   "execution_count": 325,
   "metadata": {},
   "outputs": [
    {
     "name": "stdout",
     "output_type": "stream",
     "text": [
      "[ 10  48 330]\n"
     ]
    }
   ],
   "source": [
    "x = np.array([2 , 4 , 10]) * np.array([5 , 12 , 33]) \n",
    "print(x) "
   ]
  },
  {
   "cell_type": "code",
   "execution_count": 348,
   "metadata": {},
   "outputs": [],
   "source": [
    "students = np.array( [[70, 75, 60, 80], [40, 60, 70, 90], [33, 90, 55, 90]])"
   ]
  },
  {
   "cell_type": "code",
   "execution_count": 349,
   "metadata": {},
   "outputs": [
    {
     "data": {
      "text/plain": [
       "array([[70, 75, 60, 80],\n",
       "       [40, 60, 70, 90],\n",
       "       [33, 90, 55, 90]])"
      ]
     },
     "execution_count": 349,
     "metadata": {},
     "output_type": "execute_result"
    }
   ],
   "source": [
    "students"
   ]
  },
  {
   "cell_type": "code",
   "execution_count": 380,
   "metadata": {},
   "outputs": [
    {
     "data": {
      "text/plain": [
       "array([71.25, 65.  , 67.  ])"
      ]
     },
     "execution_count": 380,
     "metadata": {},
     "output_type": "execute_result"
    }
   ],
   "source": [
    "np.mean(students,1)"
   ]
  },
  {
   "cell_type": "code",
   "execution_count": 382,
   "metadata": {},
   "outputs": [],
   "source": [
    "index = np.where(np.mean(students,1)<66)"
   ]
  },
  {
   "cell_type": "code",
   "execution_count": 390,
   "metadata": {},
   "outputs": [
    {
     "data": {
      "text/plain": [
       "(array([1]),)"
      ]
     },
     "execution_count": 390,
     "metadata": {},
     "output_type": "execute_result"
    }
   ],
   "source": [
    "index"
   ]
  },
  {
   "cell_type": "code",
   "execution_count": 371,
   "metadata": {},
   "outputs": [
    {
     "data": {
      "text/plain": [
       "array([[70, 75, 60, 80]])"
      ]
     },
     "execution_count": 371,
     "metadata": {},
     "output_type": "execute_result"
    }
   ],
   "source": [
    "students[index]"
   ]
  },
  {
   "cell_type": "code",
   "execution_count": null,
   "metadata": {},
   "outputs": [],
   "source": []
  },
  {
   "cell_type": "code",
   "execution_count": null,
   "metadata": {},
   "outputs": [],
   "source": [
    "students = np.array( [[70, 75, 60, 80], [40, 60, 70, 90], [33, 90, 55, 90]])"
   ]
  },
  {
   "cell_type": "code",
   "execution_count": 91,
   "metadata": {},
   "outputs": [
    {
     "name": "stdout",
     "output_type": "stream",
     "text": [
      "(array([10, 11, 12, 13]),)\n",
      "[ 12 234  45  56]\n"
     ]
    }
   ],
   "source": [
    "np_arr = np.array([5,2,1,4,0,5,6,7,9,0,12,234,45,56,6])\n",
    "ind = np.where(np_arr > 10)\n",
    "print(ind)\n",
    "## use index to get elements \n",
    "#print np_arr[[0,4]]\n",
    "print(np_arr[ind])"
   ]
  },
  {
   "cell_type": "code",
   "execution_count": 376,
   "metadata": {},
   "outputs": [
    {
     "name": "stdout",
     "output_type": "stream",
     "text": [
      "5\n",
      "(array([ 0,  2,  3, 11, 16]),)\n",
      "[ 5  1  4 45 56]\n"
     ]
    }
   ],
   "source": [
    "# count_nonzero\n",
    "np_arr = np.array([5,0,1,4,0,0,0,0,0,0,0,45,0,0,0,0,56,0])\n",
    "# sparse array \n",
    "print(np.count_nonzero(np_arr))\n",
    "# nonzero\n",
    "index = np.nonzero(np_arr)\n",
    "print(index)\n",
    "print(np_arr[index])"
   ]
  },
  {
   "cell_type": "code",
   "execution_count": null,
   "metadata": {},
   "outputs": [],
   "source": []
  },
  {
   "cell_type": "code",
   "execution_count": null,
   "metadata": {},
   "outputs": [],
   "source": []
  },
  {
   "cell_type": "code",
   "execution_count": null,
   "metadata": {},
   "outputs": [],
   "source": []
  },
  {
   "cell_type": "code",
   "execution_count": null,
   "metadata": {},
   "outputs": [],
   "source": []
  },
  {
   "cell_type": "code",
   "execution_count": null,
   "metadata": {},
   "outputs": [],
   "source": []
  },
  {
   "cell_type": "code",
   "execution_count": 93,
   "metadata": {},
   "outputs": [],
   "source": [
    "# homogeneous n-dimensional arrays\n",
    "py_arr = [1,3,4,7,16]\n",
    "numpy_arr = np.array([1,2,3,4,5,6])"
   ]
  },
  {
   "cell_type": "code",
   "execution_count": 94,
   "metadata": {},
   "outputs": [],
   "source": [
    "py_arr = [1,3,4,7,'hello']"
   ]
  },
  {
   "cell_type": "code",
   "execution_count": 418,
   "metadata": {},
   "outputs": [],
   "source": [
    "filename = './test.txt'\n",
    "dataset = np.loadtxt(filename)"
   ]
  },
  {
   "cell_type": "code",
   "execution_count": 421,
   "metadata": {},
   "outputs": [
    {
     "data": {
      "text/plain": [
       "array([[70., 75., 60., 80.],\n",
       "       [40., 60., 70., 90.],\n",
       "       [33., 90., 55., 90.]])"
      ]
     },
     "execution_count": 421,
     "metadata": {},
     "output_type": "execute_result"
    }
   ],
   "source": [
    "dataset"
   ]
  },
  {
   "cell_type": "code",
   "execution_count": 414,
   "metadata": {},
   "outputs": [
    {
     "data": {
      "text/plain": [
       "array([[70., 75., 60.],\n",
       "       [80., 40., 60.],\n",
       "       [70., 90., 33.],\n",
       "       [90., 55., 90.]])"
      ]
     },
     "execution_count": 414,
     "metadata": {},
     "output_type": "execute_result"
    }
   ],
   "source": [
    "dataset.reshape(4,3)"
   ]
  },
  {
   "cell_type": "code",
   "execution_count": null,
   "metadata": {},
   "outputs": [],
   "source": []
  },
  {
   "cell_type": "code",
   "execution_count": null,
   "metadata": {},
   "outputs": [],
   "source": []
  },
  {
   "cell_type": "code",
   "execution_count": 95,
   "metadata": {},
   "outputs": [
    {
     "name": "stdout",
     "output_type": "stream",
     "text": [
      "(2, 3)\n",
      "[[10.  4.  5.]\n",
      " [ 2.  3.  4.]]\n"
     ]
    }
   ],
   "source": [
    "filename = './test.txt'\n",
    "dataset = np.loadtxt(filename)\n",
    "print(dataset.shape)\n",
    "print(dataset)"
   ]
  },
  {
   "cell_type": "code",
   "execution_count": 103,
   "metadata": {},
   "outputs": [
    {
     "name": "stdout",
     "output_type": "stream",
     "text": [
      "(2, 4)\n",
      "[[1. 4. 6. 6.]\n",
      " [7. 7. 7. 9.]]\n"
     ]
    }
   ],
   "source": [
    "filename = './test_comma.txt'\n",
    "dataset = np.loadtxt(filename, delimiter = \",\")\n",
    "print(dataset.shape)\n",
    "print(dataset)"
   ]
  },
  {
   "cell_type": "code",
   "execution_count": 104,
   "metadata": {},
   "outputs": [
    {
     "data": {
      "text/plain": [
       "array([[1., 7.],\n",
       "       [4., 7.],\n",
       "       [6., 7.],\n",
       "       [6., 9.]])"
      ]
     },
     "execution_count": 104,
     "metadata": {},
     "output_type": "execute_result"
    }
   ],
   "source": [
    "np.transpose(dataset)"
   ]
  },
  {
   "cell_type": "code",
   "execution_count": 115,
   "metadata": {},
   "outputs": [],
   "source": [
    "np.savetxt('tmp.txt', dataset, delimiter = \",\" )##, fmt='%1.4e') ## fmt='%1.2f'"
   ]
  },
  {
   "cell_type": "code",
   "execution_count": 106,
   "metadata": {},
   "outputs": [
    {
     "data": {
      "text/plain": [
       "numpy.ndarray"
      ]
     },
     "execution_count": 106,
     "metadata": {},
     "output_type": "execute_result"
    }
   ],
   "source": [
    "type(dataset)"
   ]
  },
  {
   "cell_type": "code",
   "execution_count": null,
   "metadata": {},
   "outputs": [],
   "source": []
  }
 ],
 "metadata": {
  "kernelspec": {
   "display_name": "Python 3",
   "language": "python",
   "name": "python3"
  },
  "language_info": {
   "codemirror_mode": {
    "name": "ipython",
    "version": 3
   },
   "file_extension": ".py",
   "mimetype": "text/x-python",
   "name": "python",
   "nbconvert_exporter": "python",
   "pygments_lexer": "ipython3",
   "version": "3.9.1"
  }
 },
 "nbformat": 4,
 "nbformat_minor": 1
}

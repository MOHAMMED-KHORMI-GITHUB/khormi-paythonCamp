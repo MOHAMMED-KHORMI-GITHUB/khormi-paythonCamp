{
 "cells": [
  {
   "cell_type": "code",
   "execution_count": 1,
   "metadata": {},
   "outputs": [
    {
     "data": {
      "text/plain": [
       "int"
      ]
     },
     "execution_count": 1,
     "metadata": {},
     "output_type": "execute_result"
    }
   ],
   "source": [
    "x = 5\n",
    "type(x)"
   ]
  },
  {
   "cell_type": "code",
   "execution_count": 2,
   "metadata": {},
   "outputs": [
    {
     "name": "stdout",
     "output_type": "stream",
     "text": [
      "Enter Number 1:1\n",
      "Enter Number 2:2\n",
      "3.0\n"
     ]
    }
   ],
   "source": [
    "num1 = float(input(\"Enter Number 1:\"))\n",
    "num2 = int(input(\"Enter Number 2:\"))\n",
    "print(num1+num2)"
   ]
  },
  {
   "cell_type": "code",
   "execution_count": 17,
   "metadata": {},
   "outputs": [
    {
     "name": "stdout",
     "output_type": "stream",
     "text": [
      "1\n"
     ]
    }
   ],
   "source": [
    "x =10\n",
    "y=6\n",
    "print(x//y)"
   ]
  },
  {
   "cell_type": "markdown",
   "metadata": {},
   "source": [
    "// is called Floor Division"
   ]
  },
  {
   "cell_type": "code",
   "execution_count": 19,
   "metadata": {},
   "outputs": [
    {
     "name": "stdout",
     "output_type": "stream",
     "text": [
      "4\n"
     ]
    }
   ],
   "source": [
    "print(x%y)"
   ]
  },
  {
   "cell_type": "code",
   "execution_count": 20,
   "metadata": {},
   "outputs": [
    {
     "name": "stdout",
     "output_type": "stream",
     "text": [
      "100\n"
     ]
    }
   ],
   "source": [
    "print(x**2)"
   ]
  },
  {
   "cell_type": "markdown",
   "metadata": {},
   "source": [
    "addition  +\n",
    "subtraction  -\n",
    "mul   *\n",
    "div  /\n",
    "Floor Div  //\n",
    "Remainder %\n",
    "Power  **"
   ]
  },
  {
   "cell_type": "code",
   "execution_count": 29,
   "metadata": {},
   "outputs": [
    {
     "data": {
      "text/plain": [
       "65536"
      ]
     },
     "execution_count": 29,
     "metadata": {},
     "output_type": "execute_result"
    }
   ],
   "source": [
    "x =2\n",
    "y=4\n",
    "z =4\n",
    "out = x ** (y * z)\n",
    "out"
   ]
  },
  {
   "cell_type": "code",
   "execution_count": 30,
   "metadata": {},
   "outputs": [
    {
     "data": {
      "text/plain": [
       "12"
      ]
     },
     "execution_count": 30,
     "metadata": {},
     "output_type": "execute_result"
    }
   ],
   "source": [
    "out =  (x * (x**2)) + (z-y) +z\n",
    "out"
   ]
  },
  {
   "cell_type": "code",
   "execution_count": 33,
   "metadata": {},
   "outputs": [
    {
     "data": {
      "text/plain": [
       "6561"
      ]
     },
     "execution_count": 33,
     "metadata": {},
     "output_type": "execute_result"
    }
   ],
   "source": [
    "3 ** 2 ** 3"
   ]
  },
  {
   "cell_type": "code",
   "execution_count": null,
   "metadata": {},
   "outputs": [],
   "source": [
    "3*4*5"
   ]
  },
  {
   "cell_type": "markdown",
   "metadata": {},
   "source": [
    "Priorities:\n",
    "Equal prio. excuted left to right\n",
    "Except POWER opt. excuted right to left\n"
   ]
  },
  {
   "cell_type": "code",
   "execution_count": 41,
   "metadata": {},
   "outputs": [
    {
     "data": {
      "text/plain": [
       "True"
      ]
     },
     "execution_count": 41,
     "metadata": {},
     "output_type": "execute_result"
    }
   ],
   "source": [
    "not(6 == 8)"
   ]
  },
  {
   "cell_type": "markdown",
   "metadata": {},
   "source": [
    "Relational Opertators\n",
    ">\n",
    "<\n",
    ">=\n",
    "<=\n",
    "==\n",
    "!=\n",
    "not()\n"
   ]
  },
  {
   "cell_type": "code",
   "execution_count": 48,
   "metadata": {},
   "outputs": [
    {
     "name": "stdout",
     "output_type": "stream",
     "text": [
      "Enter the current hour (Please use 24 System)15\n",
      "Welcome to Python Boot Camp\n"
     ]
    }
   ],
   "source": [
    "hour = int(input(\"Enter the current hour (Please use 24 System)\"))\n",
    "if hour < 12:\n",
    "    print(\"Good Morning\")\n",
    "    print(\"test 123\")\n",
    "\n",
    "print(\"Welcome to Python Boot Camp\")\n",
    "    "
   ]
  },
  {
   "cell_type": "code",
   "execution_count": 1,
   "metadata": {},
   "outputs": [
    {
     "name": "stdout",
     "output_type": "stream",
     "text": [
      "Enter the current hour (Please use 24 System)16\n",
      "Good Evening\n"
     ]
    }
   ],
   "source": [
    "hour = int(input(\"Enter the current hour (Please use 24 System)\"))\n",
    "if hour < 12:\n",
    "    print(\"Good Morning\")\n",
    "    print(\"We will start at 1PM\")\n",
    "else:\n",
    "    print(\"Good Evening\")\n",
    "    print(\"We already started the training\")"
   ]
  },
  {
   "cell_type": "code",
   "execution_count": 5,
   "metadata": {},
   "outputs": [
    {
     "name": "stdout",
     "output_type": "stream",
     "text": [
      "Enter Number 1:4\n",
      "Enter Number 2:4\n",
      "The two numbers are equal\n"
     ]
    }
   ],
   "source": [
    "num1 = int(input(\"Enter Number 1:\"))\n",
    "num2 = int(input(\"Enter Number 2:\"))\n",
    "if num1 > num2:\n",
    "    print(num1)\n",
    "else:\n",
    "    if num2 > num1:\n",
    "        print(num2)\n",
    "    else:\n",
    "        print(\"The two numbers are equal\")\n",
    "    "
   ]
  },
  {
   "cell_type": "code",
   "execution_count": null,
   "metadata": {},
   "outputs": [],
   "source": [
    "num1 = int(input(\"Enter Number 1:\"))\n",
    "num2 = int(input(\"Enter Number 2:\"))\n",
    "num3 = int(input(\"Enter Number 3:\"))\n",
    "if num1 > num2:\n",
    "    if num1 > num3:\n",
    "        print(num1)\n",
    "    else:\n",
    "        print(num3)\n",
    "else:\n",
    "    if num2 > num3:\n",
    "        print(num2)\n",
    "    else:\n",
    "        print(num3)\n",
    "        \n",
    "        "
   ]
  },
  {
   "cell_type": "code",
   "execution_count": null,
   "metadata": {},
   "outputs": [],
   "source": [
    "num1 = int(input(\"Enter Number 1:\"))\n",
    "num2 = int(input(\"Enter Number 2:\"))\n",
    "num3 = int(input(\"Enter Number 3:\"))\n",
    "if num1 > num2 && num1 > num3:\n",
    "    print (num1)\n",
    "if num2 > num1 && num2 > num3:\n",
    "    print (num2)\n",
    "if num3 > num2 && num3 > num1:\n",
    "    print (num3)"
   ]
  },
  {
   "cell_type": "code",
   "execution_count": null,
   "metadata": {},
   "outputs": [],
   "source": [
    "num1 = int(input(\"Enter Number 1:\"))\n",
    "num2 = int(input(\"Enter Number 2:\"))\n",
    "num3 = int(input(\"Enter Number 3:\"))\n",
    "print(max(num1,num2,num3))"
   ]
  },
  {
   "cell_type": "markdown",
   "metadata": {},
   "source": [
    "max()\n",
    "min()"
   ]
  },
  {
   "cell_type": "code",
   "execution_count": null,
   "metadata": {},
   "outputs": [],
   "source": [
    "grade = int(input(\"Enter your marks in Python\"))\n",
    "if grade >100:\n",
    "    print(\"Wrong Entery\")\n",
    "elif grade >= 90:\n",
    "    print(\"A\")\n",
    "elif grade >=80:\n",
    "    print(\"B\")\n",
    "elif grade >= 70:\n",
    "    print(\"C\")\n",
    "elif grade >= 60:\n",
    "    print(\"D\")\n",
    "else:\n",
    "    print(\"F\")\n",
    "        "
   ]
  },
  {
   "cell_type": "code",
   "execution_count": 2,
   "metadata": {},
   "outputs": [
    {
     "name": "stdout",
     "output_type": "stream",
     "text": [
      "Python\n",
      "Python\n",
      "Python\n",
      "Python\n",
      "Python\n",
      "Python\n",
      "Python\n",
      "Python\n",
      "Python\n",
      "Python\n"
     ]
    }
   ],
   "source": [
    "counter =1\n",
    "while counter <=10:\n",
    "    print(\"Python\")\n",
    "    counter = counter +1"
   ]
  },
  {
   "cell_type": "code",
   "execution_count": 7,
   "metadata": {},
   "outputs": [
    {
     "name": "stdout",
     "output_type": "stream",
     "text": [
      "1\n",
      "3\n",
      "5\n",
      "7\n",
      "9\n"
     ]
    }
   ],
   "source": [
    "x = 1\n",
    "while x <= 10:\n",
    "    if x%2!=0:\n",
    "        print(x)\n",
    "    x = x+1"
   ]
  },
  {
   "cell_type": "code",
   "execution_count": 9,
   "metadata": {},
   "outputs": [
    {
     "name": "stdout",
     "output_type": "stream",
     "text": [
      "0\n",
      "2\n",
      "4\n",
      "6\n",
      "8\n",
      "10\n"
     ]
    }
   ],
   "source": [
    "x = 0\n",
    "while x <= 10:\n",
    "    print(x)\n",
    "    x = x+2"
   ]
  },
  {
   "cell_type": "code",
   "execution_count": 12,
   "metadata": {},
   "outputs": [
    {
     "name": "stdout",
     "output_type": "stream",
     "text": [
      "30\n"
     ]
    }
   ],
   "source": [
    "x = 0\n",
    "sum =0\n",
    "while x<=10:\n",
    "    sum = sum + x\n",
    "    x =x +2\n",
    "print(sum)"
   ]
  },
  {
   "cell_type": "code",
   "execution_count": 15,
   "metadata": {},
   "outputs": [
    {
     "name": "stdout",
     "output_type": "stream",
     "text": [
      "Enter your max number:300\n",
      "45150\n"
     ]
    }
   ],
   "source": [
    "x = 1\n",
    "sum =0\n",
    "num = int(input(\"Enter your max number:\"))\n",
    "while x<=num:\n",
    "    sum = sum + x\n",
    "    x =x +1\n",
    "print(sum)"
   ]
  },
  {
   "cell_type": "code",
   "execution_count": 25,
   "metadata": {},
   "outputs": [
    {
     "name": "stdout",
     "output_type": "stream",
     "text": [
      "Enter a number between 0 and 10:2\n",
      "Too Low\n",
      "Try again, Enter a number between 0 and 10:8\n",
      "Great you got the correct number\n",
      "Your Trials = 2\n"
     ]
    }
   ],
   "source": [
    "mynum = 8\n",
    "guess = int(input(\"Enter a number between 0 and 10:\"))\n",
    "counter =1\n",
    "while guess != mynum and counter < 3:\n",
    "    if guess < mynum:\n",
    "        print(\"Too Low\")\n",
    "    else:\n",
    "        print(\"Too High\")\n",
    "    guess = int(input(\"Try again, Enter a number between 0 and 10:\"))\n",
    "    counter = counter + 1\n",
    "\n",
    "if guess == mynum:\n",
    "    print(\"Great you got the correct number\")\n",
    "else:\n",
    "    print(\"Game Over\")\n",
    "print(\"Your Remaining Trials =\" , 3 - counter)"
   ]
  },
  {
   "cell_type": "code",
   "execution_count": 29,
   "metadata": {},
   "outputs": [
    {
     "name": "stdout",
     "output_type": "stream",
     "text": [
      "36\n"
     ]
    }
   ],
   "source": [
    "sum =0\n",
    "for number in [1,2,3,4,5,6,7,8]:\n",
    "    sum += number\n",
    "print (sum)"
   ]
  },
  {
   "cell_type": "code",
   "execution_count": 37,
   "metadata": {},
   "outputs": [
    {
     "name": "stdout",
     "output_type": "stream",
     "text": [
      "10\n",
      "8\n",
      "6\n",
      "4\n",
      "2\n"
     ]
    }
   ],
   "source": [
    "for x in range(10,0,-2):\n",
    "    print(x)"
   ]
  },
  {
   "cell_type": "code",
   "execution_count": 50,
   "metadata": {},
   "outputs": [
    {
     "name": "stdout",
     "output_type": "stream",
     "text": [
      "Do you want to Count Up or Down (u/d):D\n",
      "Enter your max number:4\n",
      "4\n",
      "3\n",
      "2\n",
      "1\n"
     ]
    }
   ],
   "source": [
    "counttype = input(\"Do you want to Count Up or Down (u/d):\")\n",
    "counttype = counttype.lower()\n",
    "if counttype == 'u'  :\n",
    "    num = int(input(\"Enter your max number:\"))\n",
    "    for x in range(1,num+1):\n",
    "        print(x)\n",
    "elif counttype == 'd':\n",
    "    num = int(input(\"Enter your max number:\"))\n",
    "    for x in range(num,0,-1):\n",
    "        print(x)\n",
    "else:\n",
    "    print(\"You entered wrong choice\")"
   ]
  },
  {
   "cell_type": "code",
   "execution_count": 51,
   "metadata": {},
   "outputs": [
    {
     "name": "stdout",
     "output_type": "stream",
     "text": [
      "3.0\n"
     ]
    }
   ],
   "source": [
    "import math\n",
    "print(math.sqrt(9))"
   ]
  },
  {
   "cell_type": "code",
   "execution_count": 52,
   "metadata": {},
   "outputs": [
    {
     "data": {
      "text/plain": [
       "3.141592653589793"
      ]
     },
     "execution_count": 52,
     "metadata": {},
     "output_type": "execute_result"
    }
   ],
   "source": [
    "math.pi"
   ]
  },
  {
   "cell_type": "code",
   "execution_count": 54,
   "metadata": {},
   "outputs": [
    {
     "name": "stdout",
     "output_type": "stream",
     "text": [
      "Enter the raduis of the circle:8\n",
      "201.06192982974676\n"
     ]
    }
   ],
   "source": [
    "radius = int(input(\"Enter the raduis of the circle:\"))\n",
    "area = math.pi * radius **2\n",
    "print(area)"
   ]
  },
  {
   "cell_type": "code",
   "execution_count": 56,
   "metadata": {},
   "outputs": [
    {
     "data": {
      "text/plain": [
       "4"
      ]
     },
     "execution_count": 56,
     "metadata": {},
     "output_type": "execute_result"
    }
   ],
   "source": [
    "import statistics as sat\n",
    "x = [1,2,3,4,5,6,7]\n",
    "sat.mean(x)"
   ]
  },
  {
   "cell_type": "code",
   "execution_count": 64,
   "metadata": {},
   "outputs": [
    {
     "name": "stdout",
     "output_type": "stream",
     "text": [
      "48.36453248300009\n"
     ]
    }
   ],
   "source": [
    "import random\n",
    "num = random.random()\n",
    "print(num)"
   ]
  },
  {
   "cell_type": "code",
   "execution_count": 73,
   "metadata": {},
   "outputs": [
    {
     "name": "stdout",
     "output_type": "stream",
     "text": [
      "d\n"
     ]
    }
   ],
   "source": [
    "name = ['a','b','c','d']\n",
    "random.seed(1888)\n",
    "x = random.choice(name)\n",
    "print(x)"
   ]
  },
  {
   "cell_type": "code",
   "execution_count": 78,
   "metadata": {},
   "outputs": [
    {
     "name": "stdout",
     "output_type": "stream",
     "text": [
      "35\n"
     ]
    }
   ],
   "source": [
    "num = random.randrange(0,100,5)\n",
    "print(num)"
   ]
  },
  {
   "cell_type": "code",
   "execution_count": null,
   "metadata": {},
   "outputs": [],
   "source": [
    "!pip install nltk"
   ]
  },
  {
   "cell_type": "code",
   "execution_count": 1,
   "metadata": {},
   "outputs": [],
   "source": [
    "import turtle\n",
    "turtle.shape('turtle')\n",
    "for i in range(4):\n",
    "    turtle.forward(100)\n",
    "    turtle.right(90)\n",
    "    "
   ]
  },
  {
   "cell_type": "code",
   "execution_count": 3,
   "metadata": {},
   "outputs": [],
   "source": [
    "import turtle\n",
    "turtle.shape('turtle')\n",
    "x =0\n",
    "for x in range (60):\n",
    "    for i in range(4):\n",
    "        turtle.forward(100)\n",
    "        turtle.right(90)\n",
    "    turtle.right(5)\n",
    "    "
   ]
  },
  {
   "cell_type": "code",
   "execution_count": null,
   "metadata": {},
   "outputs": [],
   "source": []
  }
 ],
 "metadata": {
  "kernelspec": {
   "display_name": "Python 3",
   "language": "python",
   "name": "python3"
  },
  "language_info": {
   "codemirror_mode": {
    "name": "ipython",
    "version": 3
   },
   "file_extension": ".py",
   "mimetype": "text/x-python",
   "name": "python",
   "nbconvert_exporter": "python",
   "pygments_lexer": "ipython3",
   "version": "3.7.6"
  }
 },
 "nbformat": 4,
 "nbformat_minor": 4
}
